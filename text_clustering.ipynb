{
 "cells": [
  {
   "cell_type": "code",
   "execution_count": 1,
   "id": "13353f6d",
   "metadata": {},
   "outputs": [],
   "source": [
    "#Unsupervised text clustering & unsupervised nearest-neighbor based similar text-retrieval\n",
    "#Data : https://www.kaggle.com/akshatpathak/text-data-clustering/data\n",
    "\n",
    "import pandas as pd \n",
    "import numpy as np\n",
    "import matplotlib.pyplot as plt"
   ]
  },
  {
   "cell_type": "code",
   "execution_count": 2,
   "id": "d86cb673",
   "metadata": {},
   "outputs": [],
   "source": [
    "df=pd.read_csv(\"cooking.csv\")"
   ]
  },
  {
   "cell_type": "code",
   "execution_count": 3,
   "id": "002e4364",
   "metadata": {},
   "outputs": [
    {
     "data": {
      "text/html": [
       "<div>\n",
       "<style scoped>\n",
       "    .dataframe tbody tr th:only-of-type {\n",
       "        vertical-align: middle;\n",
       "    }\n",
       "\n",
       "    .dataframe tbody tr th {\n",
       "        vertical-align: top;\n",
       "    }\n",
       "\n",
       "    .dataframe thead th {\n",
       "        text-align: right;\n",
       "    }\n",
       "</style>\n",
       "<table border=\"1\" class=\"dataframe\">\n",
       "  <thead>\n",
       "    <tr style=\"text-align: right;\">\n",
       "      <th></th>\n",
       "      <th>id</th>\n",
       "      <th>title</th>\n",
       "      <th>content</th>\n",
       "      <th>tags</th>\n",
       "    </tr>\n",
       "  </thead>\n",
       "  <tbody>\n",
       "    <tr>\n",
       "      <th>0</th>\n",
       "      <td>1</td>\n",
       "      <td>How can I get chewy chocolate chip cookies?</td>\n",
       "      <td>&lt;p&gt;My chocolate chips cookies are always too c...</td>\n",
       "      <td>baking cookies texture</td>\n",
       "    </tr>\n",
       "    <tr>\n",
       "      <th>1</th>\n",
       "      <td>2</td>\n",
       "      <td>How should I cook bacon in an oven?</td>\n",
       "      <td>&lt;p&gt;I've heard of people cooking bacon in an ov...</td>\n",
       "      <td>oven cooking-time bacon</td>\n",
       "    </tr>\n",
       "    <tr>\n",
       "      <th>2</th>\n",
       "      <td>3</td>\n",
       "      <td>What is the difference between white and brown...</td>\n",
       "      <td>&lt;p&gt;I always use brown extra large eggs, but I ...</td>\n",
       "      <td>eggs</td>\n",
       "    </tr>\n",
       "    <tr>\n",
       "      <th>3</th>\n",
       "      <td>4</td>\n",
       "      <td>What is the difference between baking soda and...</td>\n",
       "      <td>&lt;p&gt;And can I use one in place of the other in ...</td>\n",
       "      <td>substitutions please-remove-this-tag baking-so...</td>\n",
       "    </tr>\n",
       "    <tr>\n",
       "      <th>4</th>\n",
       "      <td>5</td>\n",
       "      <td>In a tomato sauce recipe, how can I cut the ac...</td>\n",
       "      <td>&lt;p&gt;It seems that every time I make a tomato sa...</td>\n",
       "      <td>sauce pasta tomatoes italian-cuisine</td>\n",
       "    </tr>\n",
       "    <tr>\n",
       "      <th>...</th>\n",
       "      <td>...</td>\n",
       "      <td>...</td>\n",
       "      <td>...</td>\n",
       "      <td>...</td>\n",
       "    </tr>\n",
       "    <tr>\n",
       "      <th>15399</th>\n",
       "      <td>73670</td>\n",
       "      <td>Poached eggs at altitude?</td>\n",
       "      <td>&lt;p&gt;I recently signed up for America's Test Kit...</td>\n",
       "      <td>eggs poaching high-altitude</td>\n",
       "    </tr>\n",
       "    <tr>\n",
       "      <th>15400</th>\n",
       "      <td>73678</td>\n",
       "      <td>How to thicken buttercream without adding more...</td>\n",
       "      <td>&lt;p&gt;I made some buttercream frosting for browni...</td>\n",
       "      <td>frosting</td>\n",
       "    </tr>\n",
       "    <tr>\n",
       "      <th>15401</th>\n",
       "      <td>73680</td>\n",
       "      <td>Looking for old Italian recipe for chamellas</td>\n",
       "      <td>&lt;p&gt;My Italian mom gowould pour flour on a boar...</td>\n",
       "      <td>baking</td>\n",
       "    </tr>\n",
       "    <tr>\n",
       "      <th>15402</th>\n",
       "      <td>73681</td>\n",
       "      <td>Can i make ice cream with artificial sweetener</td>\n",
       "      <td>&lt;p&gt;I wonder if an artificial sweetener like su...</td>\n",
       "      <td>ice-cream</td>\n",
       "    </tr>\n",
       "    <tr>\n",
       "      <th>15403</th>\n",
       "      <td>73683</td>\n",
       "      <td>What are these white 'bits' in my nutella</td>\n",
       "      <td>&lt;p&gt;&lt;a href=\"http://i.stack.imgur.com/p45hW.jpg...</td>\n",
       "      <td>fats food-identification mold</td>\n",
       "    </tr>\n",
       "  </tbody>\n",
       "</table>\n",
       "<p>15404 rows × 4 columns</p>\n",
       "</div>"
      ],
      "text/plain": [
       "          id                                              title  \\\n",
       "0          1        How can I get chewy chocolate chip cookies?   \n",
       "1          2                How should I cook bacon in an oven?   \n",
       "2          3  What is the difference between white and brown...   \n",
       "3          4  What is the difference between baking soda and...   \n",
       "4          5  In a tomato sauce recipe, how can I cut the ac...   \n",
       "...      ...                                                ...   \n",
       "15399  73670                          Poached eggs at altitude?   \n",
       "15400  73678  How to thicken buttercream without adding more...   \n",
       "15401  73680       Looking for old Italian recipe for chamellas   \n",
       "15402  73681     Can i make ice cream with artificial sweetener   \n",
       "15403  73683          What are these white 'bits' in my nutella   \n",
       "\n",
       "                                                 content  \\\n",
       "0      <p>My chocolate chips cookies are always too c...   \n",
       "1      <p>I've heard of people cooking bacon in an ov...   \n",
       "2      <p>I always use brown extra large eggs, but I ...   \n",
       "3      <p>And can I use one in place of the other in ...   \n",
       "4      <p>It seems that every time I make a tomato sa...   \n",
       "...                                                  ...   \n",
       "15399  <p>I recently signed up for America's Test Kit...   \n",
       "15400  <p>I made some buttercream frosting for browni...   \n",
       "15401  <p>My Italian mom gowould pour flour on a boar...   \n",
       "15402  <p>I wonder if an artificial sweetener like su...   \n",
       "15403  <p><a href=\"http://i.stack.imgur.com/p45hW.jpg...   \n",
       "\n",
       "                                                    tags  \n",
       "0                                 baking cookies texture  \n",
       "1                                oven cooking-time bacon  \n",
       "2                                                   eggs  \n",
       "3      substitutions please-remove-this-tag baking-so...  \n",
       "4                   sauce pasta tomatoes italian-cuisine  \n",
       "...                                                  ...  \n",
       "15399                        eggs poaching high-altitude  \n",
       "15400                                           frosting  \n",
       "15401                                             baking  \n",
       "15402                                          ice-cream  \n",
       "15403                      fats food-identification mold  \n",
       "\n",
       "[15404 rows x 4 columns]"
      ]
     },
     "execution_count": 3,
     "metadata": {},
     "output_type": "execute_result"
    }
   ],
   "source": [
    "df"
   ]
  },
  {
   "cell_type": "code",
   "execution_count": 4,
   "id": "a41f5b83",
   "metadata": {},
   "outputs": [],
   "source": [
    "text_with_punctuation=df['content']"
   ]
  },
  {
   "cell_type": "code",
   "execution_count": 5,
   "id": "5972265e",
   "metadata": {},
   "outputs": [],
   "source": [
    "#Remove punctuation and convert to lower-case\n",
    "import nltk\n",
    "import string\n",
    "tokenizer = nltk. RegexpTokenizer(r\"\\w+\")\n",
    "\n",
    "text=[]\n",
    "\n",
    "for i in text_with_punctuation:\n",
    "    new_words = tokenizer. tokenize(i)\n",
    "    text.append((' '.join(new_words)).lower())"
   ]
  },
  {
   "cell_type": "code",
   "execution_count": 6,
   "id": "ab1e9034",
   "metadata": {},
   "outputs": [
    {
     "name": "stderr",
     "output_type": "stream",
     "text": [
      "/opt/miniconda3/envs/python2/lib/python3.7/site-packages/tensorflow/python/framework/dtypes.py:526: FutureWarning: Passing (type, 1) or '1type' as a synonym of type is deprecated; in a future version of numpy, it will be understood as (type, (1,)) / '(1,)type'.\n",
      "  _np_qint8 = np.dtype([(\"qint8\", np.int8, 1)])\n",
      "/opt/miniconda3/envs/python2/lib/python3.7/site-packages/tensorflow/python/framework/dtypes.py:527: FutureWarning: Passing (type, 1) or '1type' as a synonym of type is deprecated; in a future version of numpy, it will be understood as (type, (1,)) / '(1,)type'.\n",
      "  _np_quint8 = np.dtype([(\"quint8\", np.uint8, 1)])\n",
      "/opt/miniconda3/envs/python2/lib/python3.7/site-packages/tensorflow/python/framework/dtypes.py:528: FutureWarning: Passing (type, 1) or '1type' as a synonym of type is deprecated; in a future version of numpy, it will be understood as (type, (1,)) / '(1,)type'.\n",
      "  _np_qint16 = np.dtype([(\"qint16\", np.int16, 1)])\n",
      "/opt/miniconda3/envs/python2/lib/python3.7/site-packages/tensorflow/python/framework/dtypes.py:529: FutureWarning: Passing (type, 1) or '1type' as a synonym of type is deprecated; in a future version of numpy, it will be understood as (type, (1,)) / '(1,)type'.\n",
      "  _np_quint16 = np.dtype([(\"quint16\", np.uint16, 1)])\n",
      "/opt/miniconda3/envs/python2/lib/python3.7/site-packages/tensorflow/python/framework/dtypes.py:530: FutureWarning: Passing (type, 1) or '1type' as a synonym of type is deprecated; in a future version of numpy, it will be understood as (type, (1,)) / '(1,)type'.\n",
      "  _np_qint32 = np.dtype([(\"qint32\", np.int32, 1)])\n",
      "/opt/miniconda3/envs/python2/lib/python3.7/site-packages/tensorflow/python/framework/dtypes.py:535: FutureWarning: Passing (type, 1) or '1type' as a synonym of type is deprecated; in a future version of numpy, it will be understood as (type, (1,)) / '(1,)type'.\n",
      "  np_resource = np.dtype([(\"resource\", np.ubyte, 1)])\n"
     ]
    }
   ],
   "source": [
    "#Tokenize text and convert to matrices using tfidf features\n",
    "import tensorflow.keras\n",
    "from tensorflow.keras.preprocessing.text import Tokenizer\n",
    "\n",
    "t=Tokenizer()\n",
    "t.fit_on_texts(text)\n",
    "X = t.texts_to_matrix(text, mode=\"tfidf\")"
   ]
  },
  {
   "cell_type": "code",
   "execution_count": 7,
   "id": "b9678f5f",
   "metadata": {},
   "outputs": [
    {
     "data": {
      "text/plain": [
       "PCA(n_components=100)"
      ]
     },
     "execution_count": 7,
     "metadata": {},
     "output_type": "execute_result"
    }
   ],
   "source": [
    "import sklearn\n",
    "from sklearn.decomposition import PCA\n",
    "import numpy as np\n",
    "\n",
    "X=np.array(X)\n",
    "\n",
    "pca = PCA(n_components=100)\n",
    "pca.fit(X)"
   ]
  },
  {
   "cell_type": "code",
   "execution_count": 8,
   "id": "9dc0f688",
   "metadata": {},
   "outputs": [],
   "source": [
    "PCA_X=pca.transform(X)"
   ]
  },
  {
   "cell_type": "code",
   "execution_count": 9,
   "id": "762ac968",
   "metadata": {},
   "outputs": [
    {
     "data": {
      "image/png": "[encoded data removed]",
      "text/plain": [
       "<Figure size 432x288 with 1 Axes>"
      ]
     },
     "metadata": {
      "needs_background": "light"
     },
     "output_type": "display_data"
    }
   ],
   "source": [
    "#Elbo method for selecting optimal number of clusters\n",
    "import matplotlib.pyplot as plt\n",
    "from sklearn.cluster import KMeans\n",
    "inertias = []\n",
    "\n",
    "# Creating 10 K-Mean models while varying the number of clusters (k)\n",
    "for k in range(1,10):\n",
    "    model = KMeans(n_clusters=k,       )\n",
    "    \n",
    "    # Fit model to samples\n",
    "    model.fit(PCA_X)\n",
    "    \n",
    "    # Append the inertia to the list of inertias\n",
    "    inertias.append(model.inertia_)\n",
    "    \n",
    "plt.plot(range(1,10), inertias, '-p', color='gold')\n",
    "plt.xlabel('number of clusters, k')\n",
    "plt.ylabel('inertia')\n",
    "plt.show()"
   ]
  },
  {
   "cell_type": "code",
   "execution_count": 10,
   "id": "fa61c487",
   "metadata": {},
   "outputs": [],
   "source": [
    "#For our dataset, clustering fails to give optimal number of clusters."
   ]
  },
  {
   "cell_type": "code",
   "execution_count": 11,
   "id": "f81d1ef4",
   "metadata": {},
   "outputs": [],
   "source": [
    "#Nearest neighbors after PCA. Ideally this should be applied to each cluster for finding similar texts within each cluster for each text within the cluster.\n",
    "\n",
    "from sklearn.neighbors import NearestNeighbors\n",
    "\n",
    "nbrs = NearestNeighbors(n_neighbors=5, algorithm='ball_tree').fit(PCA_X)"
   ]
  },
  {
   "cell_type": "code",
   "execution_count": 12,
   "id": "03302212",
   "metadata": {},
   "outputs": [],
   "source": [
    "distances, indices = nbrs.kneighbors(PCA_X)"
   ]
  },
  {
   "cell_type": "code",
   "execution_count": 13,
   "id": "80177af8",
   "metadata": {},
   "outputs": [
    {
     "data": {
      "text/plain": [
       "array([[    0, 10685, 11655,  1472, 14932],\n",
       "       [    1,  3079, 10768, 11286, 10759],\n",
       "       [    2,  1495,  4189,   107,   830],\n",
       "       ...,\n",
       "       [15401,  6943,  7986, 13518, 14493],\n",
       "       [15402, 11742,   701,  7356,   765],\n",
       "       [15403, 11907, 12919,  2485, 10523]])"
      ]
     },
     "execution_count": 13,
     "metadata": {},
     "output_type": "execute_result"
    }
   ],
   "source": [
    "indices"
   ]
  },
  {
   "cell_type": "code",
   "execution_count": 14,
   "id": "90f92895",
   "metadata": {},
   "outputs": [
    {
     "data": {
      "text/plain": [
       "'<p>My chocolate chips cookies are always too crisp. How can I get chewy cookies, like those of Starbucks?</p>\\n\\n<hr>\\n\\n<p>Thank you to everyone who has answered. So far the tip that had the biggest impact was to chill and rest the dough, however I also increased the brown sugar ratio and increased a bit the butter. Also adding maple syrup helped. </p>\\n'"
      ]
     },
     "execution_count": 14,
     "metadata": {},
     "output_type": "execute_result"
    }
   ],
   "source": [
    "df['content'][0]"
   ]
  },
  {
   "cell_type": "code",
   "execution_count": 16,
   "id": "a3500490",
   "metadata": {},
   "outputs": [
    {
     "data": {
      "text/plain": [
       "\"<p>I made chocolate chip cookies and added too much brown sugar. The cookies are too sweet. I've used real butter and real chocolate chips. Does anyone have any ideas?</p>\\n\""
      ]
     },
     "execution_count": 16,
     "metadata": {},
     "output_type": "execute_result"
    }
   ],
   "source": [
    "df['content'][10685]"
   ]
  },
  {
   "cell_type": "code",
   "execution_count": 17,
   "id": "fe496c62",
   "metadata": {},
   "outputs": [
    {
     "data": {
      "text/plain": [
       "'<p>I made cookie dough. I already put white chocolate chips and so on. I forgot to put in brown and white sugar... How can I fix this?</p>\\n'"
      ]
     },
     "execution_count": 17,
     "metadata": {},
     "output_type": "execute_result"
    }
   ],
   "source": [
    "df['content'][11655]"
   ]
  },
  {
   "cell_type": "code",
   "execution_count": 18,
   "id": "3de5a7a8",
   "metadata": {},
   "outputs": [
    {
     "data": {
      "text/plain": [
       "\"<p>I always use brown extra large eggs, but I can't honestly say why I do this other than habit at this point. Are there any distinct advantages or disadvantages like flavor, shelf life, etc?</p>\\n\""
      ]
     },
     "execution_count": 18,
     "metadata": {},
     "output_type": "execute_result"
    }
   ],
   "source": [
    "df['content'][2]"
   ]
  },
  {
   "cell_type": "code",
   "execution_count": 19,
   "id": "6691619b",
   "metadata": {},
   "outputs": [
    {
     "data": {
      "text/plain": [
       "'<p>Is there some guide I can use for cooking soft boiled ostrich eggs?</p>\\n'"
      ]
     },
     "execution_count": 19,
     "metadata": {},
     "output_type": "execute_result"
    }
   ],
   "source": [
    "df['content'][1495]"
   ]
  },
  {
   "cell_type": "code",
   "execution_count": 21,
   "id": "bf330e96",
   "metadata": {},
   "outputs": [
    {
     "data": {
      "text/plain": [
       "'<p>It seems that almost all meat replacements in the UK have eggs. Are there any good vegan alternatives?</p>\\n'"
      ]
     },
     "execution_count": 21,
     "metadata": {},
     "output_type": "execute_result"
    }
   ],
   "source": [
    "df['content'][107]"
   ]
  },
  {
   "cell_type": "code",
   "execution_count": 22,
   "id": "ff3cbd53",
   "metadata": {},
   "outputs": [
    {
     "data": {
      "text/plain": [
       "\"<p>I've heard of people cooking bacon in an oven by laying the strips out on a cookie sheet. When using this method, how long should I cook the bacon for, and at what temperature?</p>\\n\""
      ]
     },
     "execution_count": 22,
     "metadata": {},
     "output_type": "execute_result"
    }
   ],
   "source": [
    "df['content'][1]"
   ]
  },
  {
   "cell_type": "code",
   "execution_count": 23,
   "id": "9e69a482",
   "metadata": {},
   "outputs": [
    {
     "data": {
      "text/plain": [
       "'<p>I have never done tilapia on the grill.\\nAt which temperature, and how long should I cook it?</p>\\n'"
      ]
     },
     "execution_count": 23,
     "metadata": {},
     "output_type": "execute_result"
    }
   ],
   "source": [
    "df['content'][3079]"
   ]
  },
  {
   "cell_type": "code",
   "execution_count": 24,
   "id": "e40b59bf",
   "metadata": {},
   "outputs": [
    {
     "data": {
      "text/plain": [
       "'<p>My Italian mom gowould pour flour on a board then place eggs in the center with salt I think vanilla  mix it with olive oil and then make round shapes and S shapes she would brush them with an egg wash and then bake them to a light golden brown. We would Dunk in milk or coffee desperately looking for the recipe thank you</p>\\n'"
      ]
     },
     "execution_count": 24,
     "metadata": {},
     "output_type": "execute_result"
    }
   ],
   "source": [
    "df['content'][15401]"
   ]
  },
  {
   "cell_type": "code",
   "execution_count": 25,
   "id": "5502f709",
   "metadata": {},
   "outputs": [
    {
     "data": {
      "text/plain": [
       "'<p>Is there any truth to coating eggs with oil, placing them in the cartons upside down and then not storing them in the refrigerator - will make them last a few months???</p>\\n'"
      ]
     },
     "execution_count": 25,
     "metadata": {},
     "output_type": "execute_result"
    }
   ],
   "source": [
    "df['content'][6943]"
   ]
  },
  {
   "cell_type": "code",
   "execution_count": 26,
   "id": "66261b82",
   "metadata": {},
   "outputs": [
    {
     "data": {
      "text/plain": [
       "\"<p>My mother would dust her rising dough with flour and cover it with a dish cloth, today everyone uses oil. Which works better? What's the difference?</p>\\n\""
      ]
     },
     "execution_count": 26,
     "metadata": {},
     "output_type": "execute_result"
    }
   ],
   "source": [
    "df['content'][7986]"
   ]
  }
 ],
 "metadata": {
  "kernelspec": {
   "display_name": "Python 3",
   "language": "python",
   "name": "python3"
  },
  "language_info": {
   "codemirror_mode": {
    "name": "ipython",
    "version": 3
   },
   "file_extension": ".py",
   "mimetype": "text/x-python",
   "name": "python",
   "nbconvert_exporter": "python",
   "pygments_lexer": "ipython3",
   "version": "3.7.10"
  }
 },
 "nbformat": 4,
 "nbformat_minor": 5
}
