{
 "cells": [
  {
   "cell_type": "code",
   "execution_count": 1,
   "id": "13353f6d",
   "metadata": {},
   "outputs": [],
   "source": [
    "#Unsupervised text clustering \n",
    "#Data : https://www.kaggle.com/akshatpathak/text-data-clustering/data\n",
    "\n",
    "import pandas as pd \n",
    "import numpy as np\n",
    "import matplotlib.pyplot as plt"
   ]
  },
  {
   "cell_type": "code",
   "execution_count": 2,
   "id": "d86cb673",
   "metadata": {},
   "outputs": [],
   "source": [
    "df=pd.read_csv(\"cooking.csv\")"
   ]
  },
  {
   "cell_type": "code",
   "execution_count": 3,
   "id": "002e4364",
   "metadata": {},
   "outputs": [
    {
     "data": {
      "text/html": [
       "<div>\n",
       "<style scoped>\n",
       "    .dataframe tbody tr th:only-of-type {\n",
       "        vertical-align: middle;\n",
       "    }\n",
       "\n",
       "    .dataframe tbody tr th {\n",
       "        vertical-align: top;\n",
       "    }\n",
       "\n",
       "    .dataframe thead th {\n",
       "        text-align: right;\n",
       "    }\n",
       "</style>\n",
       "<table border=\"1\" class=\"dataframe\">\n",
       "  <thead>\n",
       "    <tr style=\"text-align: right;\">\n",
       "      <th></th>\n",
       "      <th>id</th>\n",
       "      <th>title</th>\n",
       "      <th>content</th>\n",
       "      <th>tags</th>\n",
       "    </tr>\n",
       "  </thead>\n",
       "  <tbody>\n",
       "    <tr>\n",
       "      <th>0</th>\n",
       "      <td>1</td>\n",
       "      <td>How can I get chewy chocolate chip cookies?</td>\n",
       "      <td>&lt;p&gt;My chocolate chips cookies are always too c...</td>\n",
       "      <td>baking cookies texture</td>\n",
       "    </tr>\n",
       "    <tr>\n",
       "      <th>1</th>\n",
       "      <td>2</td>\n",
       "      <td>How should I cook bacon in an oven?</td>\n",
       "      <td>&lt;p&gt;I've heard of people cooking bacon in an ov...</td>\n",
       "      <td>oven cooking-time bacon</td>\n",
       "    </tr>\n",
       "    <tr>\n",
       "      <th>2</th>\n",
       "      <td>3</td>\n",
       "      <td>What is the difference between white and brown...</td>\n",
       "      <td>&lt;p&gt;I always use brown extra large eggs, but I ...</td>\n",
       "      <td>eggs</td>\n",
       "    </tr>\n",
       "    <tr>\n",
       "      <th>3</th>\n",
       "      <td>4</td>\n",
       "      <td>What is the difference between baking soda and...</td>\n",
       "      <td>&lt;p&gt;And can I use one in place of the other in ...</td>\n",
       "      <td>substitutions please-remove-this-tag baking-so...</td>\n",
       "    </tr>\n",
       "    <tr>\n",
       "      <th>4</th>\n",
       "      <td>5</td>\n",
       "      <td>In a tomato sauce recipe, how can I cut the ac...</td>\n",
       "      <td>&lt;p&gt;It seems that every time I make a tomato sa...</td>\n",
       "      <td>sauce pasta tomatoes italian-cuisine</td>\n",
       "    </tr>\n",
       "    <tr>\n",
       "      <th>...</th>\n",
       "      <td>...</td>\n",
       "      <td>...</td>\n",
       "      <td>...</td>\n",
       "      <td>...</td>\n",
       "    </tr>\n",
       "    <tr>\n",
       "      <th>15399</th>\n",
       "      <td>73670</td>\n",
       "      <td>Poached eggs at altitude?</td>\n",
       "      <td>&lt;p&gt;I recently signed up for America's Test Kit...</td>\n",
       "      <td>eggs poaching high-altitude</td>\n",
       "    </tr>\n",
       "    <tr>\n",
       "      <th>15400</th>\n",
       "      <td>73678</td>\n",
       "      <td>How to thicken buttercream without adding more...</td>\n",
       "      <td>&lt;p&gt;I made some buttercream frosting for browni...</td>\n",
       "      <td>frosting</td>\n",
       "    </tr>\n",
       "    <tr>\n",
       "      <th>15401</th>\n",
       "      <td>73680</td>\n",
       "      <td>Looking for old Italian recipe for chamellas</td>\n",
       "      <td>&lt;p&gt;My Italian mom gowould pour flour on a boar...</td>\n",
       "      <td>baking</td>\n",
       "    </tr>\n",
       "    <tr>\n",
       "      <th>15402</th>\n",
       "      <td>73681</td>\n",
       "      <td>Can i make ice cream with artificial sweetener</td>\n",
       "      <td>&lt;p&gt;I wonder if an artificial sweetener like su...</td>\n",
       "      <td>ice-cream</td>\n",
       "    </tr>\n",
       "    <tr>\n",
       "      <th>15403</th>\n",
       "      <td>73683</td>\n",
       "      <td>What are these white 'bits' in my nutella</td>\n",
       "      <td>&lt;p&gt;&lt;a href=\"http://i.stack.imgur.com/p45hW.jpg...</td>\n",
       "      <td>fats food-identification mold</td>\n",
       "    </tr>\n",
       "  </tbody>\n",
       "</table>\n",
       "<p>15404 rows × 4 columns</p>\n",
       "</div>"
      ],
      "text/plain": [
       "          id                                              title  \\\n",
       "0          1        How can I get chewy chocolate chip cookies?   \n",
       "1          2                How should I cook bacon in an oven?   \n",
       "2          3  What is the difference between white and brown...   \n",
       "3          4  What is the difference between baking soda and...   \n",
       "4          5  In a tomato sauce recipe, how can I cut the ac...   \n",
       "...      ...                                                ...   \n",
       "15399  73670                          Poached eggs at altitude?   \n",
       "15400  73678  How to thicken buttercream without adding more...   \n",
       "15401  73680       Looking for old Italian recipe for chamellas   \n",
       "15402  73681     Can i make ice cream with artificial sweetener   \n",
       "15403  73683          What are these white 'bits' in my nutella   \n",
       "\n",
       "                                                 content  \\\n",
       "0      <p>My chocolate chips cookies are always too c...   \n",
       "1      <p>I've heard of people cooking bacon in an ov...   \n",
       "2      <p>I always use brown extra large eggs, but I ...   \n",
       "3      <p>And can I use one in place of the other in ...   \n",
       "4      <p>It seems that every time I make a tomato sa...   \n",
       "...                                                  ...   \n",
       "15399  <p>I recently signed up for America's Test Kit...   \n",
       "15400  <p>I made some buttercream frosting for browni...   \n",
       "15401  <p>My Italian mom gowould pour flour on a boar...   \n",
       "15402  <p>I wonder if an artificial sweetener like su...   \n",
       "15403  <p><a href=\"http://i.stack.imgur.com/p45hW.jpg...   \n",
       "\n",
       "                                                    tags  \n",
       "0                                 baking cookies texture  \n",
       "1                                oven cooking-time bacon  \n",
       "2                                                   eggs  \n",
       "3      substitutions please-remove-this-tag baking-so...  \n",
       "4                   sauce pasta tomatoes italian-cuisine  \n",
       "...                                                  ...  \n",
       "15399                        eggs poaching high-altitude  \n",
       "15400                                           frosting  \n",
       "15401                                             baking  \n",
       "15402                                          ice-cream  \n",
       "15403                      fats food-identification mold  \n",
       "\n",
       "[15404 rows x 4 columns]"
      ]
     },
     "execution_count": 3,
     "metadata": {},
     "output_type": "execute_result"
    }
   ],
   "source": [
    "df"
   ]
  },
  {
   "cell_type": "code",
   "execution_count": 16,
   "id": "a41f5b83",
   "metadata": {},
   "outputs": [],
   "source": [
    "text_with_punctuation=df['content']"
   ]
  },
  {
   "cell_type": "code",
   "execution_count": 23,
   "id": "5972265e",
   "metadata": {},
   "outputs": [],
   "source": [
    "#Remove punctuation and convert to lower-case\n",
    "import nltk\n",
    "import string\n",
    "tokenizer = nltk. RegexpTokenizer(r\"\\w+\")\n",
    "\n",
    "text=[]\n",
    "\n",
    "for i in text_with_punctuation:\n",
    "    new_words = tokenizer. tokenize(i)\n",
    "    text.append((' '.join(new_words)).lower())"
   ]
  },
  {
   "cell_type": "code",
   "execution_count": 24,
   "id": "ab1e9034",
   "metadata": {},
   "outputs": [],
   "source": [
    "import keras\n",
    "from keras.preprocessing.text import Tokenizer\n",
    "\n",
    "t=Tokenizer()\n",
    "t.fit_on_texts(text)\n",
    "X = t.texts_to_matrix(text)"
   ]
  },
  {
   "cell_type": "code",
   "execution_count": 25,
   "id": "b9678f5f",
   "metadata": {},
   "outputs": [
    {
     "data": {
      "text/plain": [
       "PCA(n_components=2)"
      ]
     },
     "execution_count": 25,
     "metadata": {},
     "output_type": "execute_result"
    }
   ],
   "source": [
    "import sklearn\n",
    "from sklearn.decomposition import PCA\n",
    "import numpy as np\n",
    "\n",
    "X=np.array(X)\n",
    "\n",
    "pca = PCA(n_components=2)\n",
    "pca.fit(X)"
   ]
  },
  {
   "cell_type": "code",
   "execution_count": 26,
   "id": "9dc0f688",
   "metadata": {},
   "outputs": [],
   "source": [
    "PCA_X=pca.transform(X)"
   ]
  },
  {
   "cell_type": "code",
   "execution_count": 27,
   "id": "762ac968",
   "metadata": {},
   "outputs": [
    {
     "data": {
      "image/png": "[encoded data removed]",
      "text/plain": [
       "<Figure size 432x288 with 1 Axes>"
      ]
     },
     "metadata": {
      "needs_background": "light"
     },
     "output_type": "display_data"
    }
   ],
   "source": [
    "#Elbo method for selecting optimal number of clusters\n",
    "import matplotlib.pyplot as plt\n",
    "from sklearn.cluster import KMeans\n",
    "inertias = []\n",
    "\n",
    "# Creating 10 K-Mean models while varying the number of clusters (k)\n",
    "for k in range(1,10):\n",
    "    model = KMeans(n_clusters=k,       )\n",
    "    \n",
    "    # Fit model to samples\n",
    "    model.fit(PCA_X)\n",
    "    \n",
    "    # Append the inertia to the list of inertias\n",
    "    inertias.append(model.inertia_)\n",
    "    \n",
    "plt.plot(range(1,10), inertias, '-p', color='gold')\n",
    "plt.xlabel('number of clusters, k')\n",
    "plt.ylabel('inertia')\n",
    "plt.show()"
   ]
  },
  {
   "cell_type": "code",
   "execution_count": 28,
   "id": "afc5f813",
   "metadata": {},
   "outputs": [
    {
     "data": {
      "image/png": "[encoded data removed]",
      "text/plain": [
       "<Figure size 432x288 with 1 Axes>"
      ]
     },
     "metadata": {
      "needs_background": "light"
     },
     "output_type": "display_data"
    }
   ],
   "source": [
    "model = KMeans(n_clusters=4)\n",
    "model.fit(PCA_X)\n",
    "\n",
    "labels = model.predict(PCA_X)\n",
    "plt.scatter(PCA_X.T[0], PCA_X.T[1], c=labels)\n",
    "plt.show()"
   ]
  },
  {
   "cell_type": "code",
   "execution_count": 29,
   "id": "d075bf27",
   "metadata": {},
   "outputs": [],
   "source": [
    "cluster_0_text=[]\n",
    "cluster_1_text=[]\n",
    "cluster_2_text=[]\n",
    "cluster_3_text=[]\n",
    "\n",
    "for i in np.arange(labels.shape[0]):\n",
    "    if labels[i]==0:\n",
    "        cluster_0_text.append(df[\"content\"][i])\n",
    "    elif labels[i]==1:\n",
    "        cluster_1_text.append(df[\"content\"][i])\n",
    "    elif labels[i]==2:\n",
    "        cluster_2_text.append(df[\"content\"][i])\n",
    "    elif labels[i]==3:\n",
    "        cluster_2_text.append(df[\"content\"][i])    \n",
    "    else:    \n",
    "        pass"
   ]
  },
  {
   "cell_type": "code",
   "execution_count": 30,
   "id": "f81d1ef4",
   "metadata": {},
   "outputs": [],
   "source": [
    "#Nearest neighbors after PCA. Ideally this should be applied to each cluster for finding similar texts within each cluster for each text within the cluster.\n",
    "\n",
    "from sklearn.neighbors import NearestNeighbors\n",
    "\n",
    "nbrs = NearestNeighbors(n_neighbors=5, algorithm='ball_tree').fit(PCA_X)"
   ]
  },
  {
   "cell_type": "code",
   "execution_count": 31,
   "id": "03302212",
   "metadata": {},
   "outputs": [],
   "source": [
    "distances, indices = nbrs.kneighbors(PCA_X)"
   ]
  },
  {
   "cell_type": "code",
   "execution_count": 63,
   "id": "80177af8",
   "metadata": {},
   "outputs": [
    {
     "data": {
      "text/plain": [
       "array([ 8366,  7043,  5698, 11764,   393])"
      ]
     },
     "execution_count": 63,
     "metadata": {},
     "output_type": "execute_result"
    }
   ],
   "source": [
    "indices[8366]"
   ]
  },
  {
   "cell_type": "code",
   "execution_count": 67,
   "id": "90f92895",
   "metadata": {},
   "outputs": [
    {
     "data": {
      "text/plain": [
       "\"<p>How to quickly prepare fresh snails?</p>\\n\\n<p>I've heard snails must be soaked in salted water for a few hours in order to remove the mucus but a friend of mine suggested that the ones in shells can be simply thrown into the hot ash and after a dozen of minutes they can be taken off the shell and eaten. </p>\\n\\n<p>Was he right? What is the fastest way to prepare snail for eating? I mean, fastest way to prepare them so, that they would be safe food (killed parasites etc.)</p>\\n\""
      ]
     },
     "execution_count": 67,
     "metadata": {},
     "output_type": "execute_result"
    }
   ],
   "source": [
    "df['content'][5698]"
   ]
  }
 ],
 "metadata": {
  "kernelspec": {
   "display_name": "Python 3",
   "language": "python",
   "name": "python3"
  },
  "language_info": {
   "codemirror_mode": {
    "name": "ipython",
    "version": 3
   },
   "file_extension": ".py",
   "mimetype": "text/x-python",
   "name": "python",
   "nbconvert_exporter": "python",
   "pygments_lexer": "ipython3",
   "version": "3.7.10"
  }
 },
 "nbformat": 4,
 "nbformat_minor": 5
}
