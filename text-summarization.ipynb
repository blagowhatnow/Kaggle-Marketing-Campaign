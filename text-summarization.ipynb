{
 "cells": [
  {
   "cell_type": "code",
   "execution_count": 5,
   "metadata": {
    "_cell_guid": "b1076dfc-b9ad-4769-8c92-a6c4dae69d19",
    "_uuid": "8f2839f25d086af736a60e9eeb907d3b93b6e0e5",
    "execution": {
     "iopub.execute_input": "2022-11-08T13:54:33.905958Z",
     "iopub.status.busy": "2022-11-08T13:54:33.905464Z",
     "iopub.status.idle": "2022-11-08T13:54:33.917771Z",
     "shell.execute_reply": "2022-11-08T13:54:33.916371Z",
     "shell.execute_reply.started": "2022-11-08T13:54:33.905922Z"
    }
   },
   "outputs": [
    {
     "name": "stdout",
     "output_type": "stream",
     "text": [
      "/kaggle/input/tamil-wiki-summarization/Tamil wiki-data.csv\n",
      "/kaggle/input/tamil-wiki-summarization/Tamil wiki-data summarized.csv\n"
     ]
    }
   ],
   "source": [
    "# This Python 3 environment comes with many helpful analytics libraries installed\n",
    "# It is defined by the kaggle/python Docker image: https://github.com/kaggle/docker-python\n",
    "# For example, here's several helpful packages to load\n",
    "\n",
    "import numpy as np # linear algebra\n",
    "import pandas as pd # data processing, CSV file I/O (e.g. pd.read_csv)\n",
    "\n",
    "# Input data files are available in the read-only \"../input/\" directory\n",
    "# For example, running this (by clicking run or pressing Shift+Enter) will list all files under the input directory\n",
    "\n",
    "import os\n",
    "for dirname, _, filenames in os.walk('/kaggle/input'):\n",
    "    for filename in filenames:\n",
    "        print(os.path.join(dirname, filename))\n",
    "\n",
    "# You can write up to 20GB to the current directory (/kaggle/working/) that gets preserved as output when you create a version using \"Save & Run All\" \n",
    "# You can also write temporary files to /kaggle/temp/, but they won't be saved outside of the current session"
   ]
  },
  {
   "cell_type": "code",
   "execution_count": 16,
   "metadata": {
    "execution": {
     "iopub.execute_input": "2022-11-08T13:56:40.695934Z",
     "iopub.status.busy": "2022-11-08T13:56:40.695509Z",
     "iopub.status.idle": "2022-11-08T13:56:53.955185Z",
     "shell.execute_reply": "2022-11-08T13:56:53.953659Z",
     "shell.execute_reply.started": "2022-11-08T13:56:40.695897Z"
    }
   },
   "outputs": [],
   "source": [
    "import pandas as pd\n",
    "\n",
    "df=pd.read_csv(\"Tamil wiki-data summarized.csv\")"
   ]
  },
  {
   "cell_type": "code",
   "execution_count": 29,
   "metadata": {
    "execution": {
     "iopub.execute_input": "2022-11-08T14:04:32.497528Z",
     "iopub.status.busy": "2022-11-08T14:04:32.496974Z",
     "iopub.status.idle": "2022-11-08T14:04:32.585374Z",
     "shell.execute_reply": "2022-11-08T14:04:32.583918Z",
     "shell.execute_reply.started": "2022-11-08T14:04:32.497482Z"
    }
   },
   "outputs": [],
   "source": [
    "df=df.dropna()"
   ]
  },
  {
   "cell_type": "code",
   "execution_count": 18,
   "metadata": {
    "execution": {
     "iopub.execute_input": "2022-11-08T13:57:33.920304Z",
     "iopub.status.busy": "2022-11-08T13:57:33.919853Z",
     "iopub.status.idle": "2022-11-08T13:57:34.967570Z",
     "shell.execute_reply": "2022-11-08T13:57:34.966007Z",
     "shell.execute_reply.started": "2022-11-08T13:57:33.920273Z"
    }
   },
   "outputs": [],
   "source": [
    "from transformers import AutoTokenizer"
   ]
  },
  {
   "cell_type": "code",
   "execution_count": 19,
   "metadata": {
    "execution": {
     "iopub.execute_input": "2022-11-08T13:57:50.167575Z",
     "iopub.status.busy": "2022-11-08T13:57:50.167030Z",
     "iopub.status.idle": "2022-11-08T13:57:58.933708Z",
     "shell.execute_reply": "2022-11-08T13:57:58.932170Z",
     "shell.execute_reply.started": "2022-11-08T13:57:50.167533Z"
    }
   },
   "outputs": [
    {
     "data": {
      "application/vnd.jupyter.widget-view+json": {
       "model_id": "1c7c3a9ae9084d9f8edc2b24f6d13c81",
       "version_major": 2,
       "version_minor": 0
      },
      "text/plain": [
       "Downloading:   0%|          | 0.00/507 [00:00<?, ?B/s]"
      ]
     },
     "metadata": {},
     "output_type": "display_data"
    },
    {
     "data": {
      "application/vnd.jupyter.widget-view+json": {
       "model_id": "c5c448f5617b4600b8161ac96aad90a5",
       "version_major": 2,
       "version_minor": 0
      },
      "text/plain": [
       "Downloading:   0%|          | 0.00/5.38M [00:00<?, ?B/s]"
      ]
     },
     "metadata": {},
     "output_type": "display_data"
    }
   ],
   "source": [
    "tokenizer = AutoTokenizer.from_pretrained(\"ai4bharat/IndicBART\")"
   ]
  },
  {
   "cell_type": "code",
   "execution_count": 40,
   "metadata": {
    "execution": {
     "iopub.execute_input": "2022-11-08T14:22:13.351281Z",
     "iopub.status.busy": "2022-11-08T14:22:13.350796Z",
     "iopub.status.idle": "2022-11-08T14:22:13.360411Z",
     "shell.execute_reply": "2022-11-08T14:22:13.358691Z",
     "shell.execute_reply.started": "2022-11-08T14:22:13.351247Z"
    }
   },
   "outputs": [],
   "source": [
    "max_input_length = 10000\n",
    "max_target_length = 128\n",
    "\n",
    "\n",
    "def preprocess_function(examples):\n",
    "    inputs = [doc for doc in examples[\"Original\"]]\n",
    "    model_inputs = tokenizer(inputs, max_length=max_input_length, truncation=True)\n",
    "\n",
    "    # Setup the tokenizer for targets\n",
    "    with tokenizer.as_target_tokenizer():\n",
    "        labels = tokenizer(\n",
    "            examples[\"Summary\"], max_length=max_target_length, truncation=True\n",
    "        )\n",
    "\n",
    "    return model_inputs"
   ]
  },
  {
   "cell_type": "code",
   "execution_count": 44,
   "metadata": {
    "execution": {
     "iopub.execute_input": "2022-11-08T14:23:01.111403Z",
     "iopub.status.busy": "2022-11-08T14:23:01.109643Z",
     "iopub.status.idle": "2022-11-08T14:23:02.729953Z",
     "shell.execute_reply": "2022-11-08T14:23:02.728874Z",
     "shell.execute_reply.started": "2022-11-08T14:23:01.111321Z"
    }
   },
   "outputs": [],
   "source": [
    "from datasets import Dataset\n",
    "\n",
    "dataset = Dataset.from_pandas(df)"
   ]
  },
  {
   "cell_type": "code",
   "execution_count": 45,
   "metadata": {
    "execution": {
     "iopub.execute_input": "2022-11-08T14:23:07.397057Z",
     "iopub.status.busy": "2022-11-08T14:23:07.396510Z",
     "iopub.status.idle": "2022-11-08T14:25:44.909671Z",
     "shell.execute_reply": "2022-11-08T14:25:44.908703Z",
     "shell.execute_reply.started": "2022-11-08T14:23:07.397015Z"
    }
   },
   "outputs": [
    {
     "data": {
      "application/vnd.jupyter.widget-view+json": {
       "model_id": "60f4360345a24ba7af4bfbccf978aa84",
       "version_major": 2,
       "version_minor": 0
      },
      "text/plain": [
       "  0%|          | 0/157 [00:00<?, ?ba/s]"
      ]
     },
     "metadata": {},
     "output_type": "display_data"
    }
   ],
   "source": [
    "tokenized_datasets = dataset.map(preprocess_function, batched=True)"
   ]
  },
  {
   "cell_type": "code",
   "execution_count": 37,
   "metadata": {
    "execution": {
     "iopub.execute_input": "2022-11-08T14:14:06.099719Z",
     "iopub.status.busy": "2022-11-08T14:14:06.099291Z",
     "iopub.status.idle": "2022-11-08T14:14:40.813176Z",
     "shell.execute_reply": "2022-11-08T14:14:40.811574Z",
     "shell.execute_reply.started": "2022-11-08T14:14:06.099684Z"
    }
   },
   "outputs": [
    {
     "data": {
      "application/vnd.jupyter.widget-view+json": {
       "model_id": "82ffa480f04644f9a6c8a87b32f90283",
       "version_major": 2,
       "version_minor": 0
      },
      "text/plain": [
       "Downloading:   0%|          | 0.00/931M [00:00<?, ?B/s]"
      ]
     },
     "metadata": {},
     "output_type": "display_data"
    },
    {
     "name": "stderr",
     "output_type": "stream",
     "text": [
      "Some weights of the PyTorch model were not used when initializing the TF 2.0 model TFMBartForConditionalGeneration: ['lm_head.weight']\n",
      "- This IS expected if you are initializing TFMBartForConditionalGeneration from a PyTorch model trained on another task or with another architecture (e.g. initializing a TFBertForSequenceClassification model from a BertForPreTraining model).\n",
      "- This IS NOT expected if you are initializing TFMBartForConditionalGeneration from a PyTorch model that you expect to be exactly identical (e.g. initializing a TFBertForSequenceClassification model from a BertForSequenceClassification model).\n",
      "All the weights of TFMBartForConditionalGeneration were initialized from the PyTorch model.\n",
      "If your task is similar to the task the model of the checkpoint was trained on, you can already use TFMBartForConditionalGeneration for predictions without further training.\n"
     ]
    }
   ],
   "source": [
    "from transformers import AutoTokenizer, TFAutoModelForSeq2SeqLM\n",
    "\n",
    "# You can of course substitute your own username and model here if you've trained and uploaded it!\n",
    "model_name = 'ai4bharat/IndicBARTSS'\n",
    "tokenizer = AutoTokenizer.from_pretrained(model_name,from_pt=True)\n",
    "model = TFAutoModelForSeq2SeqLM.from_pretrained(model_name,from_pt=True)"
   ]
  },
  {
   "cell_type": "code",
   "execution_count": 48,
   "metadata": {
    "execution": {
     "iopub.execute_input": "2022-11-08T14:28:12.682631Z",
     "iopub.status.busy": "2022-11-08T14:28:12.682106Z",
     "iopub.status.idle": "2022-11-08T14:28:44.988053Z",
     "shell.execute_reply": "2022-11-08T14:28:44.986563Z",
     "shell.execute_reply.started": "2022-11-08T14:28:12.682595Z"
    }
   },
   "outputs": [],
   "source": [
    "document=\"அங்கிருந்து அழுது கொண்டே வீட்டிற்கு சென்ற சிறுமி தன் பெற்றோரிடம் இது குறித்து தகவல் தெரிவிக்கவே அதிர்ச்சிக்குள்ளான பெற்றோர்கள் வேப்பங்குப்பம் காவல் நிலையத்தில் இரவு 12 மணி அளவில் தகவல் தெரிவித்துள்ளனர். புகாரின் அடிப்படையில் வேப்பங்குப்பம் போலீசார் சரத்குமாரை கைது செய்து காவல் நிலையம் அழைத்து வந்து விசாரணை செய்து சிறையில் அடைத்தனர்.\"\n",
    "tokenized = tokenizer([document], return_tensors='np')\n",
    "out = model.generate(**tokenized, max_length=128)"
   ]
  }
 ],
 "metadata": {
  "kernelspec": {
   "display_name": "Python 3 (ipykernel)",
   "language": "python",
   "name": "python3"
  },
  "language_info": {
   "codemirror_mode": {
    "name": "ipython",
    "version": 3
   },
   "file_extension": ".py",
   "mimetype": "text/x-python",
   "name": "python",
   "nbconvert_exporter": "python",
   "pygments_lexer": "ipython3",
   "version": "3.9.12"
  }
 },
 "nbformat": 4,
 "nbformat_minor": 4
}
