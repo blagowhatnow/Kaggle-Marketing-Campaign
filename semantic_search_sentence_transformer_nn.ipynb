{
 "cells": [
  {
   "cell_type": "code",
   "execution_count": 1,
   "id": "f2d5a102",
   "metadata": {},
   "outputs": [],
   "source": [
    "#Data : https://www.kaggle.com/akshatpathak/text-data-clustering/data\n",
    "\n",
    "import pandas as pd \n",
    "import numpy as np\n",
    "import matplotlib.pyplot as plt"
   ]
  },
  {
   "cell_type": "code",
   "execution_count": 2,
   "id": "2d168ef8",
   "metadata": {},
   "outputs": [],
   "source": [
    "from tqdm import tqdm"
   ]
  },
  {
   "cell_type": "code",
   "execution_count": 3,
   "id": "5b865cba",
   "metadata": {},
   "outputs": [
    {
     "name": "stderr",
     "output_type": "stream",
     "text": [
      "/opt/miniconda3/envs/python2/lib/python3.7/site-packages/huggingface_hub/snapshot_download.py:11: FutureWarning: snapshot_download.py has been made private and will no longer be available from version 0.11. Please use `from huggingface_hub import snapshot_download` to import the only public function in this module. Other members of the file may be changed without a deprecation notice.\n",
      "  FutureWarning,\n",
      "/opt/miniconda3/envs/python2/lib/python3.7/site-packages/huggingface_hub/file_download.py:563: FutureWarning: `cached_download` is the legacy way to download files from the HF hub, please consider upgrading to `hf_hub_download`\n",
      "  FutureWarning,\n"
     ]
    }
   ],
   "source": [
    "from sentence_transformers import SentenceTransformer\n",
    "model = SentenceTransformer('paraphrase-MiniLM-L6-v2')"
   ]
  },
  {
   "cell_type": "code",
   "execution_count": 4,
   "id": "bc9d0368",
   "metadata": {},
   "outputs": [],
   "source": [
    "df=pd.read_csv(\"cooking.csv\")"
   ]
  },
  {
   "cell_type": "code",
   "execution_count": 5,
   "id": "be07b555",
   "metadata": {},
   "outputs": [],
   "source": [
    "text_with_punctuation=df['content']"
   ]
  },
  {
   "cell_type": "code",
   "execution_count": 6,
   "id": "69d4b152",
   "metadata": {},
   "outputs": [],
   "source": [
    "#Remove punctuation and convert to lower-case\n",
    "import nltk\n",
    "import string\n",
    "tokenizer = nltk. RegexpTokenizer(r\"\\w+\")\n",
    "\n",
    "text=[]\n",
    "\n",
    "for i in text_with_punctuation:\n",
    "    new_words = tokenizer. tokenize(i)\n",
    "    text.append((' '.join(new_words)).lower())"
   ]
  },
  {
   "cell_type": "code",
   "execution_count": 22,
   "id": "3e21be6a",
   "metadata": {},
   "outputs": [],
   "source": [
    "embeddings = model.encode(text)"
   ]
  },
  {
   "cell_type": "code",
   "execution_count": 90,
   "id": "27247497",
   "metadata": {},
   "outputs": [
    {
     "data": {
      "text/plain": [
       "PCA(n_components=100)"
      ]
     },
     "execution_count": 90,
     "metadata": {},
     "output_type": "execute_result"
    }
   ],
   "source": [
    "import sklearn\n",
    "from sklearn.decomposition import PCA\n",
    "import numpy as np\n",
    "\n",
    "embeddings=np.array(embeddings)\n",
    "\n",
    "pca = PCA(n_components=100)\n",
    "pca.fit(embeddings)"
   ]
  },
  {
   "cell_type": "code",
   "execution_count": 91,
   "id": "f1c92b2c",
   "metadata": {},
   "outputs": [],
   "source": [
    "PCA_X=pca.transform(embeddings)"
   ]
  },
  {
   "cell_type": "code",
   "execution_count": 117,
   "id": "ec35a8f8",
   "metadata": {},
   "outputs": [],
   "source": [
    "query=[\"I want to make bacon in a cast-iron skillet. Show me posts similar to that\"]\n",
    "\n",
    "encoded_query= model.encode(query)\n",
    "\n",
    "PCA_query=pca.transform(encoded_query)[0]\n"
   ]
  },
  {
   "cell_type": "code",
   "execution_count": 118,
   "id": "7723cbc6",
   "metadata": {},
   "outputs": [],
   "source": [
    "from sklearn.neighbors import NearestNeighbors\n",
    "\n",
    "neigh=NearestNeighbors(n_neighbors=4, radius=0.4, algorithm='kd_tree').fit(PCA_X)"
   ]
  },
  {
   "cell_type": "code",
   "execution_count": 119,
   "id": "8a7f4d9f",
   "metadata": {},
   "outputs": [
    {
     "data": {
      "text/plain": [
       "(array([[3.72235166, 4.1370178 , 4.15315709]]), array([[5934, 5598, 5383]]))"
      ]
     },
     "execution_count": 119,
     "metadata": {},
     "output_type": "execute_result"
    }
   ],
   "source": [
    "neigh.kneighbors([PCA_query], 3)"
   ]
  },
  {
   "cell_type": "code",
   "execution_count": 120,
   "id": "a375bb13",
   "metadata": {},
   "outputs": [
    {
     "data": {
      "text/plain": [
       "\"<p>I have a new cast iron skillet. It came unseasoned, but I seasoned it using the flaxseed oil method that seems the new (recent?) hotness. When I then cook bacon in it some of the bacon is nailed to the surface. I could scrub it out but it will take the seasoning with it (that is, I tried this once, removed the seasoning, then had to re-season the pan. For my second attempt I used electrolysis to completely reset the skillet.) </p>\\n\\n<p>Should I just leave some of residue, including the brown bits of bacon that are stuck on, add a thin layer of oil and toss it back in the oven </p>\\n\\n<p>EDIT: My thought on tossing it in the oven again with a new layer is that what bits are on the pan from bacon are just going to carbonize, which I've read is part of the idea of seasoning.</p>\\n\""
      ]
     },
     "execution_count": 120,
     "metadata": {},
     "output_type": "execute_result"
    }
   ],
   "source": [
    "df['content'][5934]"
   ]
  },
  {
   "cell_type": "code",
   "execution_count": 121,
   "id": "ccc37ef3",
   "metadata": {},
   "outputs": [
    {
     "data": {
      "text/plain": [
       "'<p>At home, I\\'m likely to cook bacon stovetop in a cast iron skillet. In commercial kitchens I\\'ve worked in, bacon goes on sheet pans in the oven. In each case, I usually pour off excess fat once or twice during cooking. However, I just watched <a href=\"http://www.chow.com/food-news/54482/how-to-cook-bacon-with-scott-vermeire/\" rel=\"nofollow\">this video</a> at Chow that instructs to never pour off the fat. Does the pool of hot fat help or hinder in achieving a uniformly crispy piece of bacon? </p>\\n'"
      ]
     },
     "execution_count": 121,
     "metadata": {},
     "output_type": "execute_result"
    }
   ],
   "source": [
    "df['content'][5598]"
   ]
  },
  {
   "cell_type": "code",
   "execution_count": 122,
   "id": "b1af75e2",
   "metadata": {},
   "outputs": [
    {
     "data": {
      "text/plain": [
       "\"<p>I do a great simple dish that involves bacon so I'm interested whether there is a vegetarian substitute for bacon. It would be quite useful having one since I use it all the time.</p>\\n\\n<p>Here's the recipe:</p>\\n\\n<p>I make small ball doughs that I boil for a couple of minutes until they are a bit firmer. In the mean time I fry bacon pieces (not slices but small square pieces) and eventually add dough balls to bacon and add sour cream.</p>\\n\""
      ]
     },
     "execution_count": 122,
     "metadata": {},
     "output_type": "execute_result"
    }
   ],
   "source": [
    "df['content'][5383]"
   ]
  }
 ],
 "metadata": {
  "kernelspec": {
   "display_name": "Python 3",
   "language": "python",
   "name": "python3"
  },
  "language_info": {
   "codemirror_mode": {
    "name": "ipython",
    "version": 3
   },
   "file_extension": ".py",
   "mimetype": "text/x-python",
   "name": "python",
   "nbconvert_exporter": "python",
   "pygments_lexer": "ipython3",
   "version": "3.7.10"
  }
 },
 "nbformat": 4,
 "nbformat_minor": 5
}
