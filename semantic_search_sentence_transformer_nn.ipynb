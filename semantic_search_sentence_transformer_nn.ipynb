{
 "cells": [
  {
   "cell_type": "code",
   "execution_count": 1,
   "id": "f2d5a102",
   "metadata": {},
   "outputs": [],
   "source": [
    "#Data : https://www.kaggle.com/akshatpathak/text-data-clustering/data\n",
    "\n",
    "import pandas as pd \n",
    "import numpy as np\n",
    "import matplotlib.pyplot as plt"
   ]
  },
  {
   "cell_type": "code",
   "execution_count": 2,
   "id": "2d168ef8",
   "metadata": {},
   "outputs": [],
   "source": [
    "from tqdm import tqdm"
   ]
  },
  {
   "cell_type": "code",
   "execution_count": 3,
   "id": "5b865cba",
   "metadata": {},
   "outputs": [
    {
     "name": "stderr",
     "output_type": "stream",
     "text": [
      "/opt/miniconda3/envs/python2/lib/python3.7/site-packages/huggingface_hub/snapshot_download.py:11: FutureWarning: snapshot_download.py has been made private and will no longer be available from version 0.11. Please use `from huggingface_hub import snapshot_download` to import the only public function in this module. Other members of the file may be changed without a deprecation notice.\n",
      "  FutureWarning,\n",
      "/opt/miniconda3/envs/python2/lib/python3.7/site-packages/huggingface_hub/file_download.py:563: FutureWarning: `cached_download` is the legacy way to download files from the HF hub, please consider upgrading to `hf_hub_download`\n",
      "  FutureWarning,\n"
     ]
    }
   ],
   "source": [
    "from sentence_transformers import SentenceTransformer\n",
    "model = SentenceTransformer('paraphrase-MiniLM-L6-v2')"
   ]
  },
  {
   "cell_type": "code",
   "execution_count": 4,
   "id": "bc9d0368",
   "metadata": {},
   "outputs": [],
   "source": [
    "df=pd.read_csv(\"cooking.csv\")"
   ]
  },
  {
   "cell_type": "code",
   "execution_count": 5,
   "id": "be07b555",
   "metadata": {},
   "outputs": [],
   "source": [
    "text_with_punctuation=df['content']"
   ]
  },
  {
   "cell_type": "code",
   "execution_count": 6,
   "id": "69d4b152",
   "metadata": {},
   "outputs": [],
   "source": [
    "#Remove punctuation and convert to lower-case\n",
    "import nltk\n",
    "import string\n",
    "tokenizer = nltk. RegexpTokenizer(r\"\\w+\")\n",
    "\n",
    "text=[]\n",
    "\n",
    "for i in text_with_punctuation:\n",
    "    new_words = tokenizer. tokenize(i)\n",
    "    text.append((' '.join(new_words)).lower())"
   ]
  },
  {
   "cell_type": "code",
   "execution_count": 8,
   "id": "3e21be6a",
   "metadata": {},
   "outputs": [],
   "source": [
    "embeddings = model.encode(text)"
   ]
  },
  {
   "cell_type": "code",
   "execution_count": 9,
   "id": "b623bfcf",
   "metadata": {},
   "outputs": [
    {
     "data": {
      "text/plain": [
       "PCA(n_components=100)"
      ]
     },
     "execution_count": 9,
     "metadata": {},
     "output_type": "execute_result"
    }
   ],
   "source": [
    "import sklearn\n",
    "from sklearn.decomposition import PCA\n",
    "import numpy as np\n",
    "\n",
    "embeddings=np.array(embeddings)\n",
    "\n",
    "pca = PCA(n_components=100)\n",
    "pca.fit(embeddings)"
   ]
  },
  {
   "cell_type": "code",
   "execution_count": 10,
   "id": "f1c92b2c",
   "metadata": {},
   "outputs": [],
   "source": [
    "PCA_X=pca.transform(embeddings)"
   ]
  },
  {
   "cell_type": "code",
   "execution_count": 11,
   "id": "bbedd49d",
   "metadata": {},
   "outputs": [],
   "source": [
    "#Nearest neighbors after PCA. Ideally this should be applied to each cluster for finding similar texts within each cluster for each text within the cluster.\n",
    "\n",
    "from sklearn.neighbors import NearestNeighbors\n",
    "\n",
    "nbrs = NearestNeighbors(n_neighbors=5, algorithm='ball_tree').fit(PCA_X)"
   ]
  },
  {
   "cell_type": "code",
   "execution_count": 12,
   "id": "6e76e764",
   "metadata": {},
   "outputs": [],
   "source": [
    "distances, indices = nbrs.kneighbors(PCA_X)"
   ]
  },
  {
   "cell_type": "code",
   "execution_count": 13,
   "id": "588fc89f",
   "metadata": {},
   "outputs": [
    {
     "data": {
      "text/plain": [
       "array([[    0, 10558,  6441,  3110, 15112],\n",
       "       [    1,  8528, 13136,  5598,  2227],\n",
       "       [    2,  8793,  2788,  4724,   158],\n",
       "       ...,\n",
       "       [15401, 10936,  8587, 12143,  1917],\n",
       "       [15402,  3377, 13418, 13341, 13353],\n",
       "       [15403,  2485, 14439, 10445, 15260]])"
      ]
     },
     "execution_count": 13,
     "metadata": {},
     "output_type": "execute_result"
    }
   ],
   "source": [
    "indices"
   ]
  },
  {
   "cell_type": "code",
   "execution_count": 14,
   "id": "7723cbc6",
   "metadata": {},
   "outputs": [
    {
     "data": {
      "text/plain": [
       "'<p>My chocolate chips cookies are always too crisp. How can I get chewy cookies, like those of Starbucks?</p>\\n\\n<hr>\\n\\n<p>Thank you to everyone who has answered. So far the tip that had the biggest impact was to chill and rest the dough, however I also increased the brown sugar ratio and increased a bit the butter. Also adding maple syrup helped. </p>\\n'"
      ]
     },
     "execution_count": 14,
     "metadata": {},
     "output_type": "execute_result"
    }
   ],
   "source": [
    "df['content'][0]\n"
   ]
  },
  {
   "cell_type": "code",
   "execution_count": 15,
   "id": "8a7f4d9f",
   "metadata": {},
   "outputs": [
    {
     "data": {
      "text/plain": [
       "'<p>I use the chocolate chip recipe on the bag but double the vanilla and add more chips than called for. I also add a bit more flour.   What I want to achieve is that old time chocolate chip cookie that is chewy flat and wide.  Can you offer a suggestion.  I still would use more chips and vanilla unless that might cause a problem.\\nI am so glad I came apon your sight.</p>\\n'"
      ]
     },
     "execution_count": 15,
     "metadata": {},
     "output_type": "execute_result"
    }
   ],
   "source": [
    "df['content'][10558]"
   ]
  },
  {
   "cell_type": "code",
   "execution_count": 16,
   "id": "a375bb13",
   "metadata": {},
   "outputs": [
    {
     "data": {
      "text/plain": [
       "\"<p>I forgot to put flour into my cookies (though I was careful to remember the oatmeal, and I blame the lack of flour on that).  They are absolutely delicious, but also difficult to eat because they have more the consistency of goopy pie filling than a cookie that you could hold in your hand.  Ideas include mashing them up, balling them, and freezing; and mashing them up, adding flour, and rebaking.  </p>\\n\\n<p>I understand that at this point they'll never be quite like cookies, but I refuse to waste them, and that would be easier if I could get them into a more manageable to eat format.</p>\\n\""
      ]
     },
     "execution_count": 16,
     "metadata": {},
     "output_type": "execute_result"
    }
   ],
   "source": [
    "df['content'][6441]"
   ]
  },
  {
   "cell_type": "code",
   "execution_count": 17,
   "id": "ccc37ef3",
   "metadata": {},
   "outputs": [
    {
     "data": {
      "text/plain": [
       "'<p>What is the impact of assembling a cookie batter in a different manner than that described in the recipe?  What\\'s the best general order for combining the creamed fat &amp; sugar, the dry ingredients and the wet ingredients?</p>\\n\\n<p>For instance, the <a href=\"http://www.verybestbaking.com/recipes/18476/Original-NESTL%C3%89-TOLL-HOUSE-Chocolate-Chip-Cookies/detail.aspx\" rel=\"nofollow\">Toll House Chocolate Chip cookie</a> recipe says to add the eggs to the creamed mixture, and then the dry ingredients (flour, salt, baking soda).  I sometimes add the dry ingredients, and then the eggs.  What problems might this cause with the finished cookies?</p>\\n'"
      ]
     },
     "execution_count": 17,
     "metadata": {},
     "output_type": "execute_result"
    }
   ],
   "source": [
    "df['content'][3110]"
   ]
  },
  {
   "cell_type": "code",
   "execution_count": 18,
   "id": "b1af75e2",
   "metadata": {},
   "outputs": [
    {
     "data": {
      "text/plain": [
       "\"<p>I've heard of people cooking bacon in an oven by laying the strips out on a cookie sheet. When using this method, how long should I cook the bacon for, and at what temperature?</p>\\n\""
      ]
     },
     "execution_count": 18,
     "metadata": {},
     "output_type": "execute_result"
    }
   ],
   "source": [
    "df['content'][1]"
   ]
  },
  {
   "cell_type": "code",
   "execution_count": 19,
   "id": "72edd804",
   "metadata": {},
   "outputs": [
    {
     "data": {
      "text/plain": [
       "'<p>When cooking bacon on a sheet rack in the oven (for about 25 minutes at 400 &deg; F), it\\'s common to put the bacon in the oven when the oven is cold, so that the oven is \"pre-heating\" while the bacon is inside.  What is the purpose of this? Why start the bacon in a cold oven when so many other things use a pre-heated oven?</p>\\n'"
      ]
     },
     "execution_count": 19,
     "metadata": {},
     "output_type": "execute_result"
    }
   ],
   "source": [
    "df['content'][8528]"
   ]
  },
  {
   "cell_type": "code",
   "execution_count": 20,
   "id": "b2cfa2c2",
   "metadata": {},
   "outputs": [
    {
     "data": {
      "text/plain": [
       "\"<p>I've been experimenting cooking bacon on the George Foreman grill. I'm trying it out a little less cooked and was wondering, how do I know if it's cooked enough to be safe to eat? Recently I've tried coating the bacon in maple syrup and it really makes it difficult to see when the bacon starts to brown.</p>\\n\""
      ]
     },
     "execution_count": 20,
     "metadata": {},
     "output_type": "execute_result"
    }
   ],
   "source": [
    "df['content'][13136]"
   ]
  },
  {
   "cell_type": "code",
   "execution_count": 21,
   "id": "8d20d8a8",
   "metadata": {},
   "outputs": [
    {
     "data": {
      "text/plain": [
       "'<p>At home, I\\'m likely to cook bacon stovetop in a cast iron skillet. In commercial kitchens I\\'ve worked in, bacon goes on sheet pans in the oven. In each case, I usually pour off excess fat once or twice during cooking. However, I just watched <a href=\"http://www.chow.com/food-news/54482/how-to-cook-bacon-with-scott-vermeire/\" rel=\"nofollow\">this video</a> at Chow that instructs to never pour off the fat. Does the pool of hot fat help or hinder in achieving a uniformly crispy piece of bacon? </p>\\n'"
      ]
     },
     "execution_count": 21,
     "metadata": {},
     "output_type": "execute_result"
    }
   ],
   "source": [
    "df['content'][5598]"
   ]
  },
  {
   "cell_type": "code",
   "execution_count": 22,
   "id": "0ddac8fc",
   "metadata": {},
   "outputs": [
    {
     "data": {
      "text/plain": [
       "\"<p>I always use brown extra large eggs, but I can't honestly say why I do this other than habit at this point. Are there any distinct advantages or disadvantages like flavor, shelf life, etc?</p>\\n\""
      ]
     },
     "execution_count": 22,
     "metadata": {},
     "output_type": "execute_result"
    }
   ],
   "source": [
    "df['content'][2]"
   ]
  },
  {
   "cell_type": "code",
   "execution_count": 23,
   "id": "c242b7f0",
   "metadata": {},
   "outputs": [
    {
     "data": {
      "text/plain": [
       "\"<p>I've been baking for not that long now and I usually peruse the web and the hundreds of books I have at home before I attempt a recipe. However there is one thing I am just not able to get down right. </p>\\n\\n<p>Whenever a cake or something involving eggs is baked, I get a really strong eggy smell that puts me off. Even after it has cooled down, the egg smell and taste remains. But I don't notice this in cakes from stores or bakeries. I don't know what to do to neutralize this, or is it completely normal?</p>\\n\\n<p>I use brown farm fresh eggs that aren't pumped full of stuff (at least that's what they say on the packaging).</p>\\n\\n<p>Update: I will try to figure out what the cheap eggs taste like in the next cake that i bake. Furthermore, i will also compare with results i obtain from a new professional line oven that i am purchasing soon. One of these is the culprit, since whenever i eat baked goods elsewhere this issue is rarely experienced.</p>\\n\""
      ]
     },
     "execution_count": 23,
     "metadata": {},
     "output_type": "execute_result"
    }
   ],
   "source": [
    "df['content'][8793]"
   ]
  },
  {
   "cell_type": "code",
   "execution_count": 24,
   "id": "50c266d8",
   "metadata": {},
   "outputs": [
    {
     "data": {
      "text/plain": [
       "\"<p>I've recently found a recipe that I really enjoy, but it calls for a sunny side up egg. Every time I try to fry an egg in this way it ends up sticking to the pan, the yolk breaks, and it ends up as an eggy mess. </p>\\n\\n<p>I've tried multiple pans including my cast-iron pan, a teflon, pan, and others but they seem to always stick. What am I doing wrong?</p>\\n\""
      ]
     },
     "execution_count": 24,
     "metadata": {},
     "output_type": "execute_result"
    }
   ],
   "source": [
    "df['content'][2788]"
   ]
  }
 ],
 "metadata": {
  "kernelspec": {
   "display_name": "Python 3",
   "language": "python",
   "name": "python3"
  },
  "language_info": {
   "codemirror_mode": {
    "name": "ipython",
    "version": 3
   },
   "file_extension": ".py",
   "mimetype": "text/x-python",
   "name": "python",
   "nbconvert_exporter": "python",
   "pygments_lexer": "ipython3",
   "version": "3.7.10"
  }
 },
 "nbformat": 4,
 "nbformat_minor": 5
}
