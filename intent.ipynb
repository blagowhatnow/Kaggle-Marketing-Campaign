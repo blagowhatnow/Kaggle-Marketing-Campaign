{
  "nbformat": 4,
  "nbformat_minor": 0,
  "metadata": {
    "colab": {
      "provenance": [],
      "collapsed_sections": []
    },
    "kernelspec": {
      "name": "python3",
      "display_name": "Python 3"
    },
    "language_info": {
      "name": "python"
    },
    "accelerator": "GPU",
    "gpuClass": "standard"
  },
  "cells": [
    {
      "cell_type": "code",
      "execution_count": null,
      "metadata": {
        "colab": {
          "base_uri": "https://localhost:8080/"
        },
        "id": "VCfo6jjs5g3i",
        "outputId": "db3dc658-ca83-43b4-87df-f731ccd7fae4"
      },
      "outputs": [
        {
          "output_type": "stream",
          "name": "stdout",
          "text": [
            "Mounted at /content/drive/\n"
          ]
        }
      ],
      "source": [
        "from google.colab import drive\n",
        "drive.mount('/content/drive/')"
      ]
    },
    {
      "cell_type": "code",
      "source": [
        "cd drive/MyDrive"
      ],
      "metadata": {
        "colab": {
          "base_uri": "https://localhost:8080/"
        },
        "id": "TWRoOZmCJytI",
        "outputId": "db1f9fe7-2d11-4ceb-f7c2-29b2017a0a60"
      },
      "execution_count": null,
      "outputs": [
        {
          "output_type": "stream",
          "name": "stdout",
          "text": [
            "/content/drive/MyDrive\n"
          ]
        }
      ]
    },
    {
      "cell_type": "code",
      "source": [
        "import pandas as pd\n",
        "\n",
        "df_train=pd.read_csv(\"train.csv\")\n",
        "df_test=pd.read_csv(\"test.csv\")"
      ],
      "metadata": {
        "id": "GNRvZDMu5nFj"
      },
      "execution_count": null,
      "outputs": []
    },
    {
      "cell_type": "code",
      "source": [
        "df1_train= df_train.copy()\n",
        "df1_train['cleaned_Text']= \"\"\n",
        "df1_test= df_test.copy()\n",
        "df1_test['cleaned_Text']= \"\""
      ],
      "metadata": {
        "id": "jcXocUA25-Kn"
      },
      "execution_count": null,
      "outputs": []
    },
    {
      "cell_type": "code",
      "source": [
        "import re\n",
        "def clean_function(Text):\n",
        "    # removing the symbols and numbers\n",
        "    Text = re.sub(r'[\\([{})\\]!@#$,\"%^*?:;~`0-9]', ' ', Text)\n",
        "    \n",
        "    # converting the text to lower case\n",
        "    Text = Text.lower()\n",
        "    Text = re.sub('http\\S+\\s*', ' ', Text)  # remove URLs\n",
        "    Text = re.sub('RT|cc', ' ', Text)  # remove RT and cc\n",
        "    Text = re.sub('#\\S+', '', Text)  # remove hashtags\n",
        "    Text = re.sub('@\\S+', '  ', Text)  # remove mentions\n",
        "    Text = re.sub('\\s+', ' ', Text)  # remove extra whitespace\n",
        "    \n",
        "    return Text"
      ],
      "metadata": {
        "id": "7-xW_grh6SuB"
      },
      "execution_count": null,
      "outputs": []
    },
    {
      "cell_type": "code",
      "source": [
        "X_train= df1_train[\"cleaned_Text\"]\n",
        "y_train= df1_train[\"labels\"]\n",
        "X_test= df1_test[\"cleaned_Text\"]\n",
        "y_test= df1_test[\"labels\"]"
      ],
      "metadata": {
        "id": "hd-cFDx38Wba"
      },
      "execution_count": null,
      "outputs": []
    },
    {
      "cell_type": "code",
      "source": [
        "from sklearn.preprocessing import LabelEncoder\n",
        "\n",
        "encoder= LabelEncoder()\n",
        "\n",
        "y_train= encoder.fit_transform(y_train)"
      ],
      "metadata": {
        "id": "5p7Lh6N67aQh"
      },
      "execution_count": null,
      "outputs": []
    },
    {
      "cell_type": "code",
      "source": [
        "from sklearn.feature_extraction.text import CountVectorizer\n",
        "CV= CountVectorizer()\n",
        "X_train= CV.fit_transform(X_train).toarray()\n",
        "X_train.shape"
      ],
      "metadata": {
        "id": "BcDJY_bXO0HE"
      },
      "execution_count": null,
      "outputs": []
    },
    {
      "cell_type": "code",
      "source": [
        "import tensorflow_hub as hub\n",
        "import tensorflow_text as text\n",
        "\n",
        "preprocessor = hub.KerasLayer(\"https://tfhub.dev/google/universal-sentence-encoder-cmlm/multilingual-preprocess/2\")\n",
        "encoder = hub.KerasLayer(\"https://tfhub.dev/google/universal-sentence-encoder-cmlm/multilingual-base/1\")\n",
        "\n",
        "\n",
        "def get_embeddings(sentences):\n",
        "  '''return BERT-like embeddings of input text\n",
        "  Args:\n",
        "    - sentences: list of strings\n",
        "  Output:\n",
        "    - BERT-like embeddings: tf.Tensor of shape=(len(sentences), 768)\n",
        "  '''\n",
        "  preprocessed_text = preprocessor(sentences)\n",
        "  return encoder(preprocessed_text)['pooled_output']"
      ],
      "metadata": {
        "id": "hdSzYNce-n0l"
      },
      "execution_count": null,
      "outputs": []
    },
    {
      "cell_type": "code",
      "source": [
        "def get_embeddings(sentences):\n",
        "    \n",
        "    preprocessed_text = preprocessor(sentences)\n",
        "    return encoder(preprocessed_text)['pooled_output']"
      ],
      "metadata": {
        "id": "JKPXhXs7-0Rp"
      },
      "execution_count": null,
      "outputs": []
    },
    {
      "cell_type": "code",
      "source": [
        "import tensorflow as tf\n",
        "num_classes=17\n",
        "\n",
        "import numpy as np\n",
        "X=np.array(df['Message'])\n",
        "y=np.array(df['Category'])\n",
        "\n",
        "y = tf.keras.utils.to_categorical(y, num_classes=num_classes)"
      ],
      "metadata": {
        "id": "Vjb71tT7Ln07"
      },
      "execution_count": null,
      "outputs": []
    },
    {
      "cell_type": "code",
      "source": [
        "i = tf.keras.layers.Input(shape=(), dtype=tf.string, name='text')\n",
        "x = preprocessor(i)\n",
        "x = encoder(x)\n",
        "x = tf.keras.layers.Dropout(0.2, name=\"dropout\")(x['pooled_output'])\n",
        "x = tf.keras.layers.Dense(num_classes, activation='softmax', name=\"output\")(x)\n",
        "\n",
        "model = tf.keras.Model(i, x)"
      ],
      "metadata": {
        "id": "whuKJIT9PdRx"
      },
      "execution_count": null,
      "outputs": []
    },
    {
      "cell_type": "code",
      "source": [
        "n_epochs = 20\n",
        "\n",
        "METRICS = [\n",
        "      tf.keras.metrics.CategoricalAccuracy(name=\"accuracy\")\n",
        "]\n",
        "\n",
        "earlystop_callback = tf.keras.callbacks.EarlyStopping(monitor = \"val_loss\", \n",
        "                                                      patience = 3,\n",
        "                                                      restore_best_weights = True)\n",
        "\n",
        "model.compile(optimizer = \"adam\",\n",
        "              loss = \"categorical_crossentropy\",\n",
        "              metrics = METRICS)\n",
        "\n",
        "model_fit = model.fit(X, \n",
        "                      y, \n",
        "                      epochs = n_epochs,\n",
        "                      callbacks = [earlystop_callback])"
      ],
      "metadata": {
        "colab": {
          "base_uri": "https://localhost:8080/"
        },
        "id": "dzmDdLJ4PkAt",
        "outputId": "3ee5dfc3-ed6b-4b74-ffb0-85a74f047884"
      },
      "execution_count": null,
      "outputs": [
        {
          "output_type": "stream",
          "name": "stdout",
          "text": [
            "Epoch 1/20\n",
            "324/324 [==============================] - 4180s 13s/step - loss: 2.4362 - accuracy: 0.2506\n"
          ]
        },
        {
          "output_type": "stream",
          "name": "stderr",
          "text": [
            "WARNING:tensorflow:Early stopping conditioned on metric `val_loss` which is not available. Available metrics are: loss,accuracy\n"
          ]
        },
        {
          "output_type": "stream",
          "name": "stdout",
          "text": [
            "Epoch 2/20\n",
            "  8/324 [..............................] - ETA: 1:08:48 - loss: 1.6695 - accuracy: 0.5248"
          ]
        }
      ]
    },
    {
      "cell_type": "code",
      "source": [],
      "metadata": {
        "id": "T7WN2U15PpUI"
      },
      "execution_count": null,
      "outputs": []
    }
  ]
}